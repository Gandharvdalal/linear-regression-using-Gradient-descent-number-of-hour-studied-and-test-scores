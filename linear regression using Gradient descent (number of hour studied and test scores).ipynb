{
 "cells": [
  {
   "cell_type": "code",
   "execution_count": 24,
   "metadata": {},
   "outputs": [],
   "source": [
    "## left hand side of data set is the number of hour studied\n",
    "## and right is number of marks obtained\n",
    "import pandas as pd\n",
    "from numpy import *"
   ]
  },
  {
   "cell_type": "code",
   "execution_count": 25,
   "metadata": {},
   "outputs": [],
   "source": [
    "def compute_error_for_given_points(b,m,points):\n",
    "    totalError=0\n",
    "    for i in range(0,len(ponits)):\n",
    "        x=ponits[i,0]  ## because x is in the first column in the dataset\n",
    "        y=ponits[i,1]  ## because y is in the second column in the dataset\n",
    "        totalError+=(y-(m*x+b))**2\n",
    "    return totalError/float(len(points))    "
   ]
  },
  {
   "cell_type": "code",
   "execution_count": 26,
   "metadata": {},
   "outputs": [],
   "source": [
    "##gradient descent\n",
    "def step_gradient(b_current, m_current, points, learningRate):\n",
    "    b_gradient = 0\n",
    "    m_gradient = 0\n",
    "    N = float(len(points))\n",
    "    for i in range(0, len(points)):\n",
    "        x = points[i, 0]\n",
    "        y = points[i, 1]\n",
    "        b_gradient += -(2/N) * (y - ((m_current * x) + b_current))\n",
    "        m_gradient += -(2/N) * x * (y - ((m_current * x) + b_current))\n",
    "    new_b = b_current - (learningRate * b_gradient)   ## rate of convergence\n",
    "    new_m = m_current - (learningRate * m_gradient)\n",
    "    return [new_b, new_m]\n",
    "    "
   ]
  },
  {
   "cell_type": "code",
   "execution_count": 27,
   "metadata": {},
   "outputs": [],
   "source": [
    "## lets define gradient_runner step\n",
    "def gradient_descent_runner(points,starting_b,starting_m,learning_rate,num_iterations):\n",
    "    b=starting_b\n",
    "    m=starting_m\n",
    "    \n",
    "    for i in range(num_iterations):\n",
    "        b,m=step_gradient(b,m,array(points),learning_rate)\n",
    "    return[b,m]    \n",
    "    \n"
   ]
  },
  {
   "cell_type": "code",
   "execution_count": 32,
   "metadata": {},
   "outputs": [],
   "source": [
    "## defining our main function\n",
    "def run():\n",
    "    points=pd.read_csv(r'C:\\Users\\Gandharv Dalal\\Desktop\\data.csv')\n",
    "    ##hyperparameters\n",
    "    learning_rate=0.0001\n",
    "    #y=mx+c\n",
    "    initial_b=0     # initial 0 because we will learn with time\n",
    "    initial_m=0\n",
    "    num_iterations=1000  #1000 because our data set is very small\n",
    "    [b,m]=gradient_descent_runner(points,initial_b,initial_m,learning_rate,num_iterations)\n",
    "    print(b)        # these will print out optimal values of b and m\n",
    "    print(m)\n",
    "    \n"
   ]
  },
  {
   "cell_type": "code",
   "execution_count": 33,
   "metadata": {},
   "outputs": [
    {
     "name": "stdout",
     "output_type": "stream",
     "text": [
      "0.10148121494753724\n",
      "1.4796491688889395\n"
     ]
    }
   ],
   "source": [
    "## defining our main function\n",
    "if __name__ == '__main__':\n",
    "    run()\n"
   ]
  }
 ],
 "metadata": {
  "kernelspec": {
   "display_name": "Python 3",
   "language": "python",
   "name": "python3"
  },
  "language_info": {
   "codemirror_mode": {
    "name": "ipython",
    "version": 3
   },
   "file_extension": ".py",
   "mimetype": "text/x-python",
   "name": "python",
   "nbconvert_exporter": "python",
   "pygments_lexer": "ipython3",
   "version": "3.7.3"
  }
 },
 "nbformat": 4,
 "nbformat_minor": 2
}
